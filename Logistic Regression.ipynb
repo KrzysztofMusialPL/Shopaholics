{
 "cells": [
  {
   "cell_type": "code",
   "execution_count": 2,
   "id": "0713d44d-7097-4728-a6c1-75131866519c",
   "metadata": {},
   "outputs": [],
   "source": [
    "import pandas as pd\n",
    "from sklearn.linear_model import LogisticRegression\n",
    "\n",
    "from sklearn.model_selection import train_test_split\n",
    "from sklearn.metrics import confusion_matrix, classification_report\n",
    "\n",
    "from sklearn.metrics import ConfusionMatrixDisplay\n",
    "from sklearn.metrics import roc_curve\n",
    "from sklearn.metrics import RocCurveDisplay\n",
    "from sklearn.metrics import auc\n",
    "from imblearn.over_sampling import SMOTEN\n",
    "import time\n",
    "import dataframe_image as dfi\n",
    "import matplotlib.pyplot as plt"
   ]
  },
  {
   "cell_type": "code",
   "execution_count": 3,
   "id": "5dbb43ad-1d32-4b65-bb28-3ab51236bf03",
   "metadata": {},
   "outputs": [],
   "source": [
    "# wczytanie zbioru\n",
    "df = pd.read_csv('clean_dataset.csv')"
   ]
  },
  {
   "cell_type": "code",
   "execution_count": 4,
   "id": "62f1ef6f-54cc-44e3-85f7-a9c1979a1870",
   "metadata": {},
   "outputs": [
    {
     "data": {
      "text/html": [
       "<div>\n",
       "<style scoped>\n",
       "    .dataframe tbody tr th:only-of-type {\n",
       "        vertical-align: middle;\n",
       "    }\n",
       "\n",
       "    .dataframe tbody tr th {\n",
       "        vertical-align: top;\n",
       "    }\n",
       "\n",
       "    .dataframe thead th {\n",
       "        text-align: right;\n",
       "    }\n",
       "</style>\n",
       "<table border=\"1\" class=\"dataframe\">\n",
       "  <thead>\n",
       "    <tr style=\"text-align: right;\">\n",
       "      <th></th>\n",
       "      <th>Unnamed: 0</th>\n",
       "      <th>basket_icon_click</th>\n",
       "      <th>basket_add_list</th>\n",
       "      <th>basket_add_detail</th>\n",
       "      <th>list_size_dropdown</th>\n",
       "      <th>closed_minibasket_click</th>\n",
       "      <th>checked_delivery_detail</th>\n",
       "      <th>sign_in</th>\n",
       "      <th>saw_checkout</th>\n",
       "      <th>saw_homepage</th>\n",
       "      <th>ordered</th>\n",
       "    </tr>\n",
       "  </thead>\n",
       "  <tbody>\n",
       "    <tr>\n",
       "      <th>0</th>\n",
       "      <td>0</td>\n",
       "      <td>0</td>\n",
       "      <td>0</td>\n",
       "      <td>0</td>\n",
       "      <td>0</td>\n",
       "      <td>0</td>\n",
       "      <td>1</td>\n",
       "      <td>0</td>\n",
       "      <td>0</td>\n",
       "      <td>0</td>\n",
       "      <td>0</td>\n",
       "    </tr>\n",
       "    <tr>\n",
       "      <th>1</th>\n",
       "      <td>1</td>\n",
       "      <td>0</td>\n",
       "      <td>0</td>\n",
       "      <td>0</td>\n",
       "      <td>0</td>\n",
       "      <td>0</td>\n",
       "      <td>0</td>\n",
       "      <td>0</td>\n",
       "      <td>0</td>\n",
       "      <td>0</td>\n",
       "      <td>0</td>\n",
       "    </tr>\n",
       "    <tr>\n",
       "      <th>2</th>\n",
       "      <td>2</td>\n",
       "      <td>0</td>\n",
       "      <td>0</td>\n",
       "      <td>0</td>\n",
       "      <td>0</td>\n",
       "      <td>0</td>\n",
       "      <td>0</td>\n",
       "      <td>0</td>\n",
       "      <td>0</td>\n",
       "      <td>0</td>\n",
       "      <td>0</td>\n",
       "    </tr>\n",
       "    <tr>\n",
       "      <th>3</th>\n",
       "      <td>3</td>\n",
       "      <td>0</td>\n",
       "      <td>0</td>\n",
       "      <td>0</td>\n",
       "      <td>0</td>\n",
       "      <td>0</td>\n",
       "      <td>0</td>\n",
       "      <td>0</td>\n",
       "      <td>0</td>\n",
       "      <td>0</td>\n",
       "      <td>0</td>\n",
       "    </tr>\n",
       "    <tr>\n",
       "      <th>4</th>\n",
       "      <td>4</td>\n",
       "      <td>0</td>\n",
       "      <td>1</td>\n",
       "      <td>0</td>\n",
       "      <td>1</td>\n",
       "      <td>0</td>\n",
       "      <td>1</td>\n",
       "      <td>1</td>\n",
       "      <td>1</td>\n",
       "      <td>1</td>\n",
       "      <td>1</td>\n",
       "    </tr>\n",
       "    <tr>\n",
       "      <th>...</th>\n",
       "      <td>...</td>\n",
       "      <td>...</td>\n",
       "      <td>...</td>\n",
       "      <td>...</td>\n",
       "      <td>...</td>\n",
       "      <td>...</td>\n",
       "      <td>...</td>\n",
       "      <td>...</td>\n",
       "      <td>...</td>\n",
       "      <td>...</td>\n",
       "      <td>...</td>\n",
       "    </tr>\n",
       "    <tr>\n",
       "      <th>455396</th>\n",
       "      <td>455396</td>\n",
       "      <td>0</td>\n",
       "      <td>0</td>\n",
       "      <td>0</td>\n",
       "      <td>0</td>\n",
       "      <td>0</td>\n",
       "      <td>0</td>\n",
       "      <td>0</td>\n",
       "      <td>0</td>\n",
       "      <td>1</td>\n",
       "      <td>0</td>\n",
       "    </tr>\n",
       "    <tr>\n",
       "      <th>455397</th>\n",
       "      <td>455397</td>\n",
       "      <td>0</td>\n",
       "      <td>0</td>\n",
       "      <td>0</td>\n",
       "      <td>0</td>\n",
       "      <td>0</td>\n",
       "      <td>0</td>\n",
       "      <td>0</td>\n",
       "      <td>0</td>\n",
       "      <td>0</td>\n",
       "      <td>0</td>\n",
       "    </tr>\n",
       "    <tr>\n",
       "      <th>455398</th>\n",
       "      <td>455398</td>\n",
       "      <td>0</td>\n",
       "      <td>0</td>\n",
       "      <td>0</td>\n",
       "      <td>0</td>\n",
       "      <td>0</td>\n",
       "      <td>0</td>\n",
       "      <td>0</td>\n",
       "      <td>0</td>\n",
       "      <td>1</td>\n",
       "      <td>0</td>\n",
       "    </tr>\n",
       "    <tr>\n",
       "      <th>455399</th>\n",
       "      <td>455399</td>\n",
       "      <td>0</td>\n",
       "      <td>0</td>\n",
       "      <td>0</td>\n",
       "      <td>0</td>\n",
       "      <td>0</td>\n",
       "      <td>0</td>\n",
       "      <td>0</td>\n",
       "      <td>0</td>\n",
       "      <td>0</td>\n",
       "      <td>0</td>\n",
       "    </tr>\n",
       "    <tr>\n",
       "      <th>455400</th>\n",
       "      <td>455400</td>\n",
       "      <td>1</td>\n",
       "      <td>1</td>\n",
       "      <td>1</td>\n",
       "      <td>1</td>\n",
       "      <td>0</td>\n",
       "      <td>0</td>\n",
       "      <td>0</td>\n",
       "      <td>0</td>\n",
       "      <td>1</td>\n",
       "      <td>0</td>\n",
       "    </tr>\n",
       "  </tbody>\n",
       "</table>\n",
       "<p>455401 rows × 11 columns</p>\n",
       "</div>"
      ],
      "text/plain": [
       "        Unnamed: 0  basket_icon_click  basket_add_list  basket_add_detail  \\\n",
       "0                0                  0                0                  0   \n",
       "1                1                  0                0                  0   \n",
       "2                2                  0                0                  0   \n",
       "3                3                  0                0                  0   \n",
       "4                4                  0                1                  0   \n",
       "...            ...                ...              ...                ...   \n",
       "455396      455396                  0                0                  0   \n",
       "455397      455397                  0                0                  0   \n",
       "455398      455398                  0                0                  0   \n",
       "455399      455399                  0                0                  0   \n",
       "455400      455400                  1                1                  1   \n",
       "\n",
       "        list_size_dropdown  closed_minibasket_click  checked_delivery_detail  \\\n",
       "0                        0                        0                        1   \n",
       "1                        0                        0                        0   \n",
       "2                        0                        0                        0   \n",
       "3                        0                        0                        0   \n",
       "4                        1                        0                        1   \n",
       "...                    ...                      ...                      ...   \n",
       "455396                   0                        0                        0   \n",
       "455397                   0                        0                        0   \n",
       "455398                   0                        0                        0   \n",
       "455399                   0                        0                        0   \n",
       "455400                   1                        0                        0   \n",
       "\n",
       "        sign_in  saw_checkout  saw_homepage  ordered  \n",
       "0             0             0             0        0  \n",
       "1             0             0             0        0  \n",
       "2             0             0             0        0  \n",
       "3             0             0             0        0  \n",
       "4             1             1             1        1  \n",
       "...         ...           ...           ...      ...  \n",
       "455396        0             0             1        0  \n",
       "455397        0             0             0        0  \n",
       "455398        0             0             1        0  \n",
       "455399        0             0             0        0  \n",
       "455400        0             0             1        0  \n",
       "\n",
       "[455401 rows x 11 columns]"
      ]
     },
     "execution_count": 4,
     "metadata": {},
     "output_type": "execute_result"
    }
   ],
   "source": [
    "df"
   ]
  },
  {
   "cell_type": "code",
   "execution_count": 5,
   "id": "612b5576-7127-4704-90d7-c17c96f835c0",
   "metadata": {},
   "outputs": [],
   "source": [
    "# podział na zmienne\n",
    "X = df.drop(['Unnamed: 0', 'ordered'], axis=1)\n",
    "y = df['ordered']"
   ]
  },
  {
   "cell_type": "code",
   "execution_count": 6,
   "id": "97047adb-333a-4331-972c-ec486f2b4b48",
   "metadata": {},
   "outputs": [],
   "source": [
    "# podział zbioru na zbiór treningowy i testowy + stratify\n",
    "X_train, X_test, y_train, y_test = train_test_split(X,y, random_state=42, stratify=y)"
   ]
  },
  {
   "cell_type": "code",
   "execution_count": 7,
   "id": "c601a6db-9073-41f4-8f0a-847ff3fefad4",
   "metadata": {},
   "outputs": [],
   "source": [
    "# oversampling przy użyciu metody SMOTE\n",
    "smote = SMOTEN (random_state=42)\n",
    "X_train_smote, y_train_smote = smote.fit_resample(X_train, y_train)"
   ]
  },
  {
   "cell_type": "code",
   "execution_count": 8,
   "id": "a37a3d4e-e57b-4234-8154-33be0a4377f6",
   "metadata": {},
   "outputs": [
    {
     "data": {
      "text/plain": [
       "0    0.5\n",
       "1    0.5\n",
       "Name: ordered, dtype: float64"
      ]
     },
     "execution_count": 8,
     "metadata": {},
     "output_type": "execute_result"
    }
   ],
   "source": [
    "#sprawdzenie zbalansowania\n",
    "y_train_smote.value_counts(normalize=True)"
   ]
  },
  {
   "cell_type": "code",
   "execution_count": 9,
   "id": "639da31b-730e-4583-9dec-e9966fee778d",
   "metadata": {},
   "outputs": [
    {
     "data": {
      "image/png": "[encoded data removed]",
      "text/plain": [
       "<Figure size 640x480 with 1 Axes>"
      ]
     },
     "metadata": {},
     "output_type": "display_data"
    }
   ],
   "source": [
    "# przedstawienie zbalansowania na wykresie\n",
    "pd.Series(y_train_smote).value_counts().plot.bar();"
   ]
  },
  {
   "cell_type": "code",
   "execution_count": 10,
   "id": "1d97180a-5511-4142-99d3-897fc22305a2",
   "metadata": {},
   "outputs": [
    {
     "name": "stdout",
     "output_type": "stream",
     "text": [
      "Czas treningu modelu Regresji Logistycznej:  1.2864136695861816\n"
     ]
    }
   ],
   "source": [
    "# trenowanie modelu z pomiarem czasu\n",
    "start = time.time()\n",
    "model = LogisticRegression()\n",
    "model.fit(X_train_smote, y_train_smote)\n",
    "end = time.time()\n",
    "print(\"Czas treningu modelu Regresji Logistycznej: \", end - start)"
   ]
  },
  {
   "cell_type": "code",
   "execution_count": 11,
   "id": "4a862bc3-9d65-4ba8-8769-9856af82e112",
   "metadata": {},
   "outputs": [],
   "source": [
    "# predykcja na danych treningowych i testowych\n",
    "pred_train = model.predict(X_train_smote)\n",
    "pred_test = model.predict(X_test)\n",
    "\n",
    "pred_train_proba = model.predict_proba(X_train_smote)[:,1]\n",
    "pred_test_proba = model.predict_proba(X_test)[:,1]"
   ]
  },
  {
   "cell_type": "code",
   "execution_count": 12,
   "id": "c3c8e658-aae6-4a8e-8de1-59cd2027a5d5",
   "metadata": {},
   "outputs": [
    {
     "name": "stdout",
     "output_type": "stream",
     "text": [
      "Raport klasyfikacji dla danych treningowych: \n",
      "              precision    recall  f1-score   support\n",
      "\n",
      "           0       0.99      0.99      0.99    327230\n",
      "           1       0.99      0.99      0.99    327230\n",
      "\n",
      "    accuracy                           0.99    654460\n",
      "   macro avg       0.99      0.99      0.99    654460\n",
      "weighted avg       0.99      0.99      0.99    654460\n",
      "\n",
      "\n",
      "\n",
      "Raport klasyfikacji dla danych testowych: \n",
      "              precision    recall  f1-score   support\n",
      "\n",
      "           0       1.00      0.99      1.00    109078\n",
      "           1       0.86      0.99      0.92      4773\n",
      "\n",
      "    accuracy                           0.99    113851\n",
      "   macro avg       0.93      0.99      0.96    113851\n",
      "weighted avg       0.99      0.99      0.99    113851\n",
      "\n"
     ]
    }
   ],
   "source": [
    "# Raporty klasyfikacji dla danych treningowych i testowych\n",
    "print(\"Raport klasyfikacji dla danych treningowych: \") \n",
    "print(classification_report(y_train_smote, pred_train))\n",
    "print('\\n')\n",
    "print(\"Raport klasyfikacji dla danych testowych: \") \n",
    "print(classification_report(y_test, pred_test))"
   ]
  },
  {
   "cell_type": "code",
   "execution_count": 16,
   "id": "86aea354-fcb5-42bd-bb6c-f4606d7b213f",
   "metadata": {},
   "outputs": [
    {
     "name": "stdout",
     "output_type": "stream",
     "text": [
      "Confusion matrix dla treningu: \n"
     ]
    },
    {
     "data": {
      "image/png": "[encoded data removed]",
      "text/plain": [
       "<Figure size 640x480 with 2 Axes>"
      ]
     },
     "metadata": {},
     "output_type": "display_data"
    }
   ],
   "source": [
    "# Confusion matrix dla danych treningowych i testowych\n",
    "print(\"Confusion matrix dla treningu: \") \n",
    "cm_train = confusion_matrix(y_train_smote, pred_train)\n",
    "cm_display1 = ConfusionMatrixDisplay(cm_train).plot()"
   ]
  },
  {
   "cell_type": "code",
   "execution_count": 17,
   "id": "0cc7e810-4b06-4e30-93c9-d04bb2889c5b",
   "metadata": {},
   "outputs": [
    {
     "name": "stdout",
     "output_type": "stream",
     "text": [
      "Confusion matrix dla testu: \n"
     ]
    },
    {
     "data": {
      "image/png": "[encoded data removed]",
      "text/plain": [
       "<Figure size 640x480 with 2 Axes>"
      ]
     },
     "metadata": {},
     "output_type": "display_data"
    }
   ],
   "source": [
    "print(\"Confusion matrix dla testu: \") \n",
    "cm_test = confusion_matrix(y_test, pred_test)\n",
    "cm_display2 = ConfusionMatrixDisplay(cm_test).plot()\n",
    "plt.savefig('cm_regresja_logistyczna.png')"
   ]
  },
  {
   "cell_type": "code",
   "execution_count": 19,
   "id": "ca7c827e-865d-4620-8ea8-c08e0ca933d2",
   "metadata": {},
   "outputs": [
    {
     "name": "stdout",
     "output_type": "stream",
     "text": [
      "Krzywa roc dla treningu: \n"
     ]
    },
    {
     "data": {
      "image/png": "[encoded data removed]",
      "text/plain": [
       "<Figure size 640x480 with 1 Axes>"
      ]
     },
     "metadata": {},
     "output_type": "display_data"
    }
   ],
   "source": [
    "# Krzywa roc dla danych treningowych i testowych\n",
    "print(\"Krzywa roc dla treningu: \")\n",
    "fpr_train, tpr_train, _ = roc_curve(y_train_smote, pred_train_proba)\n",
    "roc_display1 = RocCurveDisplay(fpr=fpr_train, tpr=tpr_train).plot()"
   ]
  },
  {
   "cell_type": "code",
   "execution_count": 20,
   "id": "b56687ed-3c37-432a-8803-d0cc92307877",
   "metadata": {},
   "outputs": [
    {
     "name": "stdout",
     "output_type": "stream",
     "text": [
      "Krzywa roc dla testu: \n"
     ]
    },
    {
     "data": {
      "image/png": "[encoded data removed]",
      "text/plain": [
       "<Figure size 640x480 with 1 Axes>"
      ]
     },
     "metadata": {},
     "output_type": "display_data"
    }
   ],
   "source": [
    "print(\"Krzywa roc dla testu: \")\n",
    "fpr_test, tpr_test, _ = roc_curve(y_test, pred_test_proba)\n",
    "roc_display2 = RocCurveDisplay(fpr=fpr_test, tpr=tpr_test).plot()"
   ]
  },
  {
   "cell_type": "code",
   "execution_count": 21,
   "id": "7001813d-7a30-4eb2-b291-6be7b66e0134",
   "metadata": {},
   "outputs": [
    {
     "name": "stdout",
     "output_type": "stream",
     "text": [
      "Accuracy: 0.9929030048045252\n",
      "Precision: 0.8609138904059712\n",
      "Recall: 0.9907814791535722\n"
     ]
    }
   ],
   "source": [
    "# Wyniki dla predykcji na danych testowych\n",
    "from sklearn import metrics\n",
    "\n",
    "print(\"Accuracy:\", metrics.accuracy_score(y_test, pred_test))\n",
    "print(\"Precision:\", metrics.precision_score(y_test, pred_test))\n",
    "print(\"Recall:\", metrics.recall_score(y_test, pred_test))"
   ]
  }
 ],
 "metadata": {
  "kernelspec": {
   "display_name": "Python 3 (ipykernel)",
   "language": "python",
   "name": "python3"
  },
  "language_info": {
   "codemirror_mode": {
    "name": "ipython",
    "version": 3
   },
   "file_extension": ".py",
   "mimetype": "text/x-python",
   "name": "python",
   "nbconvert_exporter": "python",
   "pygments_lexer": "ipython3",
   "version": "3.9.16"
  }
 },
 "nbformat": 4,
 "nbformat_minor": 5
}
