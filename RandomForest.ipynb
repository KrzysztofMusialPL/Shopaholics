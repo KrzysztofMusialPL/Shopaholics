{
 "cells": [
  {
   "cell_type": "code",
   "execution_count": 1,
   "metadata": {},
   "outputs": [],
   "source": [
    "# importy bibliotek\n",
    "\n",
    "import numpy as np\n",
    "import pandas as pd\n",
    "from sklearn.datasets import load_digits\n",
    "from sklearn.model_selection import GridSearchCV, RandomizedSearchCV\n",
    "from sklearn.model_selection import train_test_split\n",
    "from sklearn.ensemble import RandomForestClassifier\n",
    "from sklearn.metrics import accuracy_score\n",
    "import time\n",
    "from sklearn.metrics import classification_report, confusion_matrix, ConfusionMatrixDisplay\n",
    "import matplotlib.pyplot as plt"
   ]
  },
  {
   "cell_type": "code",
   "execution_count": 2,
   "metadata": {},
   "outputs": [
    {
     "name": "stdout",
     "output_type": "stream",
     "text": [
      "Requirement already satisfied: imblearn in c:\\users\\artur\\anaconda3\\envs\\envpy38\\lib\\site-packages (0.0)\n",
      "Requirement already satisfied: imbalanced-learn in c:\\users\\artur\\anaconda3\\envs\\envpy38\\lib\\site-packages (from imblearn) (0.10.1)\n",
      "Requirement already satisfied: scikit-learn>=1.0.2 in c:\\users\\artur\\anaconda3\\envs\\envpy38\\lib\\site-packages (from imbalanced-learn->imblearn) (1.2.1)\n",
      "Requirement already satisfied: scipy>=1.3.2 in c:\\users\\artur\\anaconda3\\envs\\envpy38\\lib\\site-packages (from imbalanced-learn->imblearn) (1.10.0)\n",
      "Requirement already satisfied: joblib>=1.1.1 in c:\\users\\artur\\anaconda3\\envs\\envpy38\\lib\\site-packages (from imbalanced-learn->imblearn) (1.1.1)\n",
      "Requirement already satisfied: threadpoolctl>=2.0.0 in c:\\users\\artur\\anaconda3\\envs\\envpy38\\lib\\site-packages (from imbalanced-learn->imblearn) (2.2.0)\n",
      "Requirement already satisfied: numpy>=1.17.3 in c:\\users\\artur\\anaconda3\\envs\\envpy38\\lib\\site-packages (from imbalanced-learn->imblearn) (1.23.5)\n",
      "Note: you may need to restart the kernel to use updated packages.\n"
     ]
    }
   ],
   "source": [
    "pip install imblearn "
   ]
  },
  {
   "cell_type": "code",
   "execution_count": 3,
   "metadata": {},
   "outputs": [],
   "source": [
    "from imblearn.over_sampling import SMOTEN"
   ]
  },
  {
   "cell_type": "code",
   "execution_count": 4,
   "metadata": {},
   "outputs": [],
   "source": [
    "from sklearn.model_selection import train_test_split"
   ]
  },
  {
   "attachments": {},
   "cell_type": "markdown",
   "metadata": {},
   "source": [
    "### Wczytanie danych "
   ]
  },
  {
   "cell_type": "code",
   "execution_count": 5,
   "metadata": {},
   "outputs": [],
   "source": [
    "df = pd.read_csv('clean_dataset.csv')\n"
   ]
  },
  {
   "cell_type": "code",
   "execution_count": 6,
   "metadata": {},
   "outputs": [
    {
     "data": {
      "text/plain": [
       "Index(['Unnamed: 0', 'basket_icon_click', 'basket_add_list',\n",
       "       'basket_add_detail', 'list_size_dropdown', 'closed_minibasket_click',\n",
       "       'checked_delivery_detail', 'sign_in', 'saw_checkout', 'saw_homepage',\n",
       "       'ordered'],\n",
       "      dtype='object')"
      ]
     },
     "execution_count": 6,
     "metadata": {},
     "output_type": "execute_result"
    }
   ],
   "source": [
    "df.columns"
   ]
  },
  {
   "attachments": {},
   "cell_type": "markdown",
   "metadata": {},
   "source": [
    "### wyznaczenie zbioru objaśniającego (X) oraz objasnianej (y)"
   ]
  },
  {
   "cell_type": "code",
   "execution_count": 7,
   "metadata": {},
   "outputs": [],
   "source": [
    "X = df.drop(labels = ['Unnamed: 0', 'ordered'], axis = 1)\n",
    "y = df['ordered']"
   ]
  },
  {
   "attachments": {},
   "cell_type": "markdown",
   "metadata": {},
   "source": [
    "### modelowanie"
   ]
  },
  {
   "cell_type": "code",
   "execution_count": 8,
   "metadata": {},
   "outputs": [],
   "source": [
    "# trenowanie \n",
    "\n",
    "X_train, X_test, y_train, y_test = train_test_split(X, y, test_size=0.25, stratify=y, random_state=123)\n"
   ]
  },
  {
   "cell_type": "code",
   "execution_count": 9,
   "metadata": {},
   "outputs": [],
   "source": [
    "#oversampling - SMOTE\n",
    "smote = SMOTEN (random_state=123)\n"
   ]
  },
  {
   "cell_type": "code",
   "execution_count": 10,
   "metadata": {},
   "outputs": [],
   "source": [
    "#trenowanie - SMOTE\n",
    "X_train_smote, y_train_smote = smote.fit_resample(X_train, y_train)"
   ]
  },
  {
   "cell_type": "code",
   "execution_count": 11,
   "metadata": {},
   "outputs": [
    {
     "data": {
      "text/plain": [
       "0    0.5\n",
       "1    0.5\n",
       "Name: ordered, dtype: float64"
      ]
     },
     "execution_count": 11,
     "metadata": {},
     "output_type": "execute_result"
    }
   ],
   "source": [
    "#sprawdzenie zbalansowania\n",
    "y_train_smote.value_counts(normalize=True)"
   ]
  },
  {
   "cell_type": "code",
   "execution_count": 12,
   "metadata": {},
   "outputs": [],
   "source": [
    "# funkcja do 'grid_combination'\n",
    "\n",
    "def grid_combination(grid):\n",
    "    total_params = 1 \n",
    "    for par in grid:\n",
    "        total_params  = total_params * len(grid[par])\n",
    "    return total_params"
   ]
  },
  {
   "cell_type": "code",
   "execution_count": 13,
   "metadata": {},
   "outputs": [
    {
     "name": "stdout",
     "output_type": "stream",
     "text": [
      "{'max_depth': [3, 4, None], 'max_features': [2, 3, 4, 5, 6, 7], 'n_estimators': [10, 25, 50], 'min_samples_leaf': [1, 3, 5, 7], 'criterion': ['gini', 'entropy']}\n",
      "Liczba wszystkich kombinacji: 432\n"
     ]
    }
   ],
   "source": [
    "# 'Przygotowanie siatki parametrów\n",
    "\n",
    "param_grid = {\"max_depth\": [3,4, None],\n",
    "              \"max_features\": list(range(2,8)),\n",
    "              \"n_estimators\":[10,25, 50],\n",
    "              \"min_samples_leaf\":[1,3,5,7],\n",
    "              \"criterion\" : ['gini', 'entropy'], \n",
    "              }\n",
    "\n",
    "print(param_grid)\n",
    "print(f'Liczba wszystkich kombinacji: {grid_combination(param_grid)}')"
   ]
  },
  {
   "cell_type": "code",
   "execution_count": 14,
   "metadata": {},
   "outputs": [],
   "source": [
    "#stworzenie klasyfikatora\n",
    "\n",
    "rfc = RandomForestClassifier()"
   ]
  },
  {
   "cell_type": "code",
   "execution_count": 29,
   "metadata": {},
   "outputs": [],
   "source": [
    "#Strojenie parametrów\n",
    "\n",
    "random_search = RandomizedSearchCV(\n",
    "    rfc,\n",
    "    param_distributions=param_grid,\n",
    "    cv=5,\n",
    "    n_iter=5,\n",
    "    verbose=5,\n",
    "    scoring='accuracy',\n",
    "    random_state=1   \n",
    ")"
   ]
  },
  {
   "cell_type": "code",
   "execution_count": 30,
   "metadata": {},
   "outputs": [
    {
     "name": "stdout",
     "output_type": "stream",
     "text": [
      "Fitting 5 folds for each of 5 candidates, totalling 25 fits\n",
      "[CV 1/5] END criterion=entropy, max_depth=4, max_features=2, min_samples_leaf=3, n_estimators=25;, score=0.990 total time=   5.6s\n",
      "[CV 2/5] END criterion=entropy, max_depth=4, max_features=2, min_samples_leaf=3, n_estimators=25;, score=0.991 total time=   4.0s\n",
      "[CV 3/5] END criterion=entropy, max_depth=4, max_features=2, min_samples_leaf=3, n_estimators=25;, score=0.989 total time=   3.6s\n",
      "[CV 4/5] END criterion=entropy, max_depth=4, max_features=2, min_samples_leaf=3, n_estimators=25;, score=0.990 total time=   4.2s\n",
      "[CV 5/5] END criterion=entropy, max_depth=4, max_features=2, min_samples_leaf=3, n_estimators=25;, score=0.991 total time=   4.7s\n",
      "[CV 1/5] END criterion=entropy, max_depth=None, max_features=2, min_samples_leaf=3, n_estimators=50;, score=0.992 total time=   9.8s\n",
      "[CV 2/5] END criterion=entropy, max_depth=None, max_features=2, min_samples_leaf=3, n_estimators=50;, score=0.992 total time=  10.8s\n",
      "[CV 3/5] END criterion=entropy, max_depth=None, max_features=2, min_samples_leaf=3, n_estimators=50;, score=0.992 total time=  15.6s\n",
      "[CV 4/5] END criterion=entropy, max_depth=None, max_features=2, min_samples_leaf=3, n_estimators=50;, score=0.992 total time=  13.7s\n",
      "[CV 5/5] END criterion=entropy, max_depth=None, max_features=2, min_samples_leaf=3, n_estimators=50;, score=0.992 total time=   9.3s\n",
      "[CV 1/5] END criterion=entropy, max_depth=None, max_features=2, min_samples_leaf=5, n_estimators=10;, score=0.992 total time=   1.8s\n",
      "[CV 2/5] END criterion=entropy, max_depth=None, max_features=2, min_samples_leaf=5, n_estimators=10;, score=0.992 total time=   1.9s\n",
      "[CV 3/5] END criterion=entropy, max_depth=None, max_features=2, min_samples_leaf=5, n_estimators=10;, score=0.992 total time=   1.8s\n",
      "[CV 4/5] END criterion=entropy, max_depth=None, max_features=2, min_samples_leaf=5, n_estimators=10;, score=0.992 total time=   1.7s\n",
      "[CV 5/5] END criterion=entropy, max_depth=None, max_features=2, min_samples_leaf=5, n_estimators=10;, score=0.992 total time=   1.8s\n",
      "[CV 1/5] END criterion=gini, max_depth=4, max_features=5, min_samples_leaf=7, n_estimators=50;, score=0.991 total time=   9.0s\n",
      "[CV 2/5] END criterion=gini, max_depth=4, max_features=5, min_samples_leaf=7, n_estimators=50;, score=0.991 total time=  10.0s\n",
      "[CV 3/5] END criterion=gini, max_depth=4, max_features=5, min_samples_leaf=7, n_estimators=50;, score=0.992 total time=  13.7s\n",
      "[CV 4/5] END criterion=gini, max_depth=4, max_features=5, min_samples_leaf=7, n_estimators=50;, score=0.991 total time=  12.4s\n",
      "[CV 5/5] END criterion=gini, max_depth=4, max_features=5, min_samples_leaf=7, n_estimators=50;, score=0.991 total time=   8.2s\n",
      "[CV 1/5] END criterion=entropy, max_depth=3, max_features=3, min_samples_leaf=5, n_estimators=50;, score=0.991 total time=   5.9s\n",
      "[CV 2/5] END criterion=entropy, max_depth=3, max_features=3, min_samples_leaf=5, n_estimators=50;, score=0.988 total time=   6.3s\n",
      "[CV 3/5] END criterion=entropy, max_depth=3, max_features=3, min_samples_leaf=5, n_estimators=50;, score=0.992 total time=   6.4s\n",
      "[CV 4/5] END criterion=entropy, max_depth=3, max_features=3, min_samples_leaf=5, n_estimators=50;, score=0.990 total time=   6.9s\n",
      "[CV 5/5] END criterion=entropy, max_depth=3, max_features=3, min_samples_leaf=5, n_estimators=50;, score=0.991 total time=   6.7s\n",
      "Czas treningu modelu RandomForest:  181.6409969329834\n"
     ]
    }
   ],
   "source": [
    "#trenowanie oraz pomiar czasu\n",
    "start = time.time()\n",
    "random_search.fit(X_train_smote, y_train_smote)\n",
    "end = time.time()\n",
    "print(\"Czas treningu modelu RandomForest: \", end - start)"
   ]
  },
  {
   "attachments": {},
   "cell_type": "markdown",
   "metadata": {},
   "source": [
    "### Wyniki"
   ]
  },
  {
   "cell_type": "code",
   "execution_count": 31,
   "metadata": {},
   "outputs": [
    {
     "data": {
      "text/plain": [
       "{'n_estimators': 10,\n",
       " 'min_samples_leaf': 5,\n",
       " 'max_features': 2,\n",
       " 'max_depth': None,\n",
       " 'criterion': 'entropy'}"
      ]
     },
     "execution_count": 31,
     "metadata": {},
     "output_type": "execute_result"
    }
   ],
   "source": [
    "# najlepsze parametry to:\n",
    "random_search.best_params_"
   ]
  },
  {
   "cell_type": "code",
   "execution_count": 32,
   "metadata": {},
   "outputs": [
    {
     "data": {
      "text/plain": [
       "0.9920209027289675"
      ]
     },
     "execution_count": 32,
     "metadata": {},
     "output_type": "execute_result"
    }
   ],
   "source": [
    "# Score przy wyborze najlepszych parametrów to:\n",
    "random_search.best_score_"
   ]
  },
  {
   "attachments": {},
   "cell_type": "markdown",
   "metadata": {},
   "source": [
    "### tworzenie nowego classifier RF z najlepszymi parametrami"
   ]
  },
  {
   "cell_type": "code",
   "execution_count": 33,
   "metadata": {},
   "outputs": [],
   "source": [
    "rfc_test = RandomForestClassifier(**random_search.best_params_)"
   ]
  },
  {
   "cell_type": "code",
   "execution_count": 34,
   "metadata": {},
   "outputs": [
    {
     "data": {
      "text/html": [
       "<style>#sk-container-id-2 {color: black;background-color: white;}#sk-container-id-2 pre{padding: 0;}#sk-container-id-2 div.sk-toggleable {background-color: white;}#sk-container-id-2 label.sk-toggleable__label {cursor: pointer;display: block;width: 100%;margin-bottom: 0;padding: 0.3em;box-sizing: border-box;text-align: center;}#sk-container-id-2 label.sk-toggleable__label-arrow:before {content: \"▸\";float: left;margin-right: 0.25em;color: #696969;}#sk-container-id-2 label.sk-toggleable__label-arrow:hover:before {color: black;}#sk-container-id-2 div.sk-estimator:hover label.sk-toggleable__label-arrow:before {color: black;}#sk-container-id-2 div.sk-toggleable__content {max-height: 0;max-width: 0;overflow: hidden;text-align: left;background-color: #f0f8ff;}#sk-container-id-2 div.sk-toggleable__content pre {margin: 0.2em;color: black;border-radius: 0.25em;background-color: #f0f8ff;}#sk-container-id-2 input.sk-toggleable__control:checked~div.sk-toggleable__content {max-height: 200px;max-width: 100%;overflow: auto;}#sk-container-id-2 input.sk-toggleable__control:checked~label.sk-toggleable__label-arrow:before {content: \"▾\";}#sk-container-id-2 div.sk-estimator input.sk-toggleable__control:checked~label.sk-toggleable__label {background-color: #d4ebff;}#sk-container-id-2 div.sk-label input.sk-toggleable__control:checked~label.sk-toggleable__label {background-color: #d4ebff;}#sk-container-id-2 input.sk-hidden--visually {border: 0;clip: rect(1px 1px 1px 1px);clip: rect(1px, 1px, 1px, 1px);height: 1px;margin: -1px;overflow: hidden;padding: 0;position: absolute;width: 1px;}#sk-container-id-2 div.sk-estimator {font-family: monospace;background-color: #f0f8ff;border: 1px dotted black;border-radius: 0.25em;box-sizing: border-box;margin-bottom: 0.5em;}#sk-container-id-2 div.sk-estimator:hover {background-color: #d4ebff;}#sk-container-id-2 div.sk-parallel-item::after {content: \"\";width: 100%;border-bottom: 1px solid gray;flex-grow: 1;}#sk-container-id-2 div.sk-label:hover label.sk-toggleable__label {background-color: #d4ebff;}#sk-container-id-2 div.sk-serial::before {content: \"\";position: absolute;border-left: 1px solid gray;box-sizing: border-box;top: 0;bottom: 0;left: 50%;z-index: 0;}#sk-container-id-2 div.sk-serial {display: flex;flex-direction: column;align-items: center;background-color: white;padding-right: 0.2em;padding-left: 0.2em;position: relative;}#sk-container-id-2 div.sk-item {position: relative;z-index: 1;}#sk-container-id-2 div.sk-parallel {display: flex;align-items: stretch;justify-content: center;background-color: white;position: relative;}#sk-container-id-2 div.sk-item::before, #sk-container-id-2 div.sk-parallel-item::before {content: \"\";position: absolute;border-left: 1px solid gray;box-sizing: border-box;top: 0;bottom: 0;left: 50%;z-index: -1;}#sk-container-id-2 div.sk-parallel-item {display: flex;flex-direction: column;z-index: 1;position: relative;background-color: white;}#sk-container-id-2 div.sk-parallel-item:first-child::after {align-self: flex-end;width: 50%;}#sk-container-id-2 div.sk-parallel-item:last-child::after {align-self: flex-start;width: 50%;}#sk-container-id-2 div.sk-parallel-item:only-child::after {width: 0;}#sk-container-id-2 div.sk-dashed-wrapped {border: 1px dashed gray;margin: 0 0.4em 0.5em 0.4em;box-sizing: border-box;padding-bottom: 0.4em;background-color: white;}#sk-container-id-2 div.sk-label label {font-family: monospace;font-weight: bold;display: inline-block;line-height: 1.2em;}#sk-container-id-2 div.sk-label-container {text-align: center;}#sk-container-id-2 div.sk-container {/* jupyter's `normalize.less` sets `[hidden] { display: none; }` but bootstrap.min.css set `[hidden] { display: none !important; }` so we also need the `!important` here to be able to override the default hidden behavior on the sphinx rendered scikit-learn.org. See: https://github.com/scikit-learn/scikit-learn/issues/21755 */display: inline-block !important;position: relative;}#sk-container-id-2 div.sk-text-repr-fallback {display: none;}</style><div id=\"sk-container-id-2\" class=\"sk-top-container\"><div class=\"sk-text-repr-fallback\"><pre>RandomForestClassifier(criterion=&#x27;entropy&#x27;, max_features=2, min_samples_leaf=5,\n",
       "                       n_estimators=10)</pre><b>In a Jupyter environment, please rerun this cell to show the HTML representation or trust the notebook. <br />On GitHub, the HTML representation is unable to render, please try loading this page with nbviewer.org.</b></div><div class=\"sk-container\" hidden><div class=\"sk-item\"><div class=\"sk-estimator sk-toggleable\"><input class=\"sk-toggleable__control sk-hidden--visually\" id=\"sk-estimator-id-2\" type=\"checkbox\" checked><label for=\"sk-estimator-id-2\" class=\"sk-toggleable__label sk-toggleable__label-arrow\">RandomForestClassifier</label><div class=\"sk-toggleable__content\"><pre>RandomForestClassifier(criterion=&#x27;entropy&#x27;, max_features=2, min_samples_leaf=5,\n",
       "                       n_estimators=10)</pre></div></div></div></div></div>"
      ],
      "text/plain": [
       "RandomForestClassifier(criterion='entropy', max_features=2, min_samples_leaf=5,\n",
       "                       n_estimators=10)"
      ]
     },
     "execution_count": 34,
     "metadata": {},
     "output_type": "execute_result"
    }
   ],
   "source": [
    "# modelowanie\n",
    "rfc_test.fit(X_test, y_test)"
   ]
  },
  {
   "cell_type": "code",
   "execution_count": 35,
   "metadata": {},
   "outputs": [],
   "source": [
    "# predykcja modelu na zbiorze testowym\n",
    "y_pred = rfc_test.predict(X_test)"
   ]
  },
  {
   "attachments": {},
   "cell_type": "markdown",
   "metadata": {},
   "source": [
    "### Wyniki dla najlepszych parametrów"
   ]
  },
  {
   "cell_type": "code",
   "execution_count": 36,
   "metadata": {},
   "outputs": [
    {
     "data": {
      "text/plain": [
       "0.9931138066420145"
      ]
     },
     "execution_count": 36,
     "metadata": {},
     "output_type": "execute_result"
    }
   ],
   "source": [
    "rfc_test.score(X_test, y_test)"
   ]
  },
  {
   "cell_type": "code",
   "execution_count": 37,
   "metadata": {},
   "outputs": [
    {
     "name": "stdout",
     "output_type": "stream",
     "text": [
      "Accuracy : 0.9931138066420145\n"
     ]
    }
   ],
   "source": [
    "score = accuracy_score(y_test, y_pred)\n",
    "print('Accuracy :',score)\n"
   ]
  },
  {
   "cell_type": "code",
   "execution_count": 38,
   "metadata": {},
   "outputs": [
    {
     "name": "stdout",
     "output_type": "stream",
     "text": [
      "              precision    recall  f1-score        support\n",
      "0              0.999548  0.993262  0.996395  109078.000000\n",
      "1              0.865360  0.989734  0.923378    4773.000000\n",
      "accuracy       0.993114  0.993114  0.993114       0.993114\n",
      "macro avg      0.932454  0.991498  0.959886  113851.000000\n",
      "weighted avg   0.993922  0.993114  0.993334  113851.000000\n"
     ]
    }
   ],
   "source": [
    "class_report_RF = classification_report(y_test, y_pred, output_dict = True )\n",
    "df_class_report_RF = pd.DataFrame(class_report_RF).transpose()\n",
    "#df_class_report_RF.to_html('class_report_RF.html')\n",
    "print(df_class_report_RF)\n"
   ]
  },
  {
   "cell_type": "code",
   "execution_count": 39,
   "metadata": {},
   "outputs": [
    {
     "data": {
      "image/png": "[encoded data removed]",
      "text/plain": [
       "<Figure size 640x480 with 2 Axes>"
      ]
     },
     "metadata": {},
     "output_type": "display_data"
    }
   ],
   "source": [
    "cm_RF = confusion_matrix(y_test, y_pred)\n",
    "disp_cm_RF = ConfusionMatrixDisplay(cm_RF)\n",
    "disp_cm_RF.plot();\n",
    "plt.savefig('disp_cm_RF.png')"
   ]
  }
 ],
 "metadata": {
  "kernelspec": {
   "display_name": "envpy38",
   "language": "python",
   "name": "python3"
  },
  "language_info": {
   "codemirror_mode": {
    "name": "ipython",
    "version": 3
   },
   "file_extension": ".py",
   "mimetype": "text/x-python",
   "name": "python",
   "nbconvert_exporter": "python",
   "pygments_lexer": "ipython3",
   "version": "3.8.16"
  },
  "orig_nbformat": 4
 },
 "nbformat": 4,
 "nbformat_minor": 2
}
